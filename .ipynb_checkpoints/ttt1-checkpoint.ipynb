{
 "cells": [
  {
   "cell_type": "code",
   "execution_count": 1,
   "metadata": {},
   "outputs": [],
   "source": [
    "import pandas as pd\n",
    "import numpy as np\n",
    "%matplotlib inline\n",
    "import matplotlib.pyplot as plt\n",
    "\n",
    "from sklearn.feature_selection import SelectKBest, SelectPercentile\n",
    "from sklearn.feature_selection import SelectFromModel\n",
    "\n",
    "from sklearn.ensemble import GradientBoostingRegressor\n",
    "from sklearn.preprocessing import StandardScaler\n",
    "from sklearn.feature_selection import f_regression, mutual_info_regression"
   ]
  },
  {
   "cell_type": "code",
   "execution_count": 2,
   "metadata": {},
   "outputs": [],
   "source": [
    "# Функция для подсчета ошидки\n",
    "def mean_absolute_percentage_error(y_true, y_pred): \n",
    "    y_true, y_pred = np.array(y_true), np.array(y_pred)\n",
    "    return np.mean(np.abs((y_true - y_pred) / y_true)) * 100"
   ]
  },
  {
   "cell_type": "code",
   "execution_count": 3,
   "metadata": {},
   "outputs": [],
   "source": [
    "# функция для разделения данных\n",
    "def split_data( data, split_date ):\n",
    "    return data.iloc[:split_date,:].copy(), \\\n",
    "           data.iloc[split_date:,:].copy()"
   ]
  },
  {
   "cell_type": "code",
   "execution_count": 4,
   "metadata": {},
   "outputs": [],
   "source": [
    "# Функция округления в большую сторону\n",
    "def my_round(num, n):\n",
    "    x = num * 10**n\n",
    "    d = x - x.astype('int')\n",
    "    return np.where(d > 0, np.ceil(x), np.floor(x)) / 10**n"
   ]
  },
  {
   "cell_type": "markdown",
   "metadata": {},
   "source": [
    "1. Прочитайте базу my_BRENT2019.csv и перейдите к представлению ряда первыми разностями"
   ]
  },
  {
   "cell_type": "code",
   "execution_count": 5,
   "metadata": {},
   "outputs": [
    {
     "data": {
      "text/html": [
       "<div>\n",
       "<style scoped>\n",
       "    .dataframe tbody tr th:only-of-type {\n",
       "        vertical-align: middle;\n",
       "    }\n",
       "\n",
       "    .dataframe tbody tr th {\n",
       "        vertical-align: top;\n",
       "    }\n",
       "\n",
       "    .dataframe thead th {\n",
       "        text-align: right;\n",
       "    }\n",
       "</style>\n",
       "<table border=\"1\" class=\"dataframe\">\n",
       "  <thead>\n",
       "    <tr style=\"text-align: right;\">\n",
       "      <th></th>\n",
       "      <th>Значение</th>\n",
       "      <th>year</th>\n",
       "      <th>month</th>\n",
       "      <th>dayofmonth</th>\n",
       "      <th>quarter</th>\n",
       "      <th>dayofyear</th>\n",
       "      <th>weekofyear</th>\n",
       "      <th>dayofweek</th>\n",
       "      <th>is_holiday</th>\n",
       "      <th>is_prev_holiday</th>\n",
       "      <th>is_next_holiday</th>\n",
       "    </tr>\n",
       "    <tr>\n",
       "      <th>Дата</th>\n",
       "      <th></th>\n",
       "      <th></th>\n",
       "      <th></th>\n",
       "      <th></th>\n",
       "      <th></th>\n",
       "      <th></th>\n",
       "      <th></th>\n",
       "      <th></th>\n",
       "      <th></th>\n",
       "      <th></th>\n",
       "      <th></th>\n",
       "    </tr>\n",
       "  </thead>\n",
       "  <tbody>\n",
       "    <tr>\n",
       "      <th>2010-09-01</th>\n",
       "      <td>76.37</td>\n",
       "      <td>2010</td>\n",
       "      <td>9</td>\n",
       "      <td>1</td>\n",
       "      <td>3</td>\n",
       "      <td>244</td>\n",
       "      <td>35</td>\n",
       "      <td>2</td>\n",
       "      <td>0</td>\n",
       "      <td>0</td>\n",
       "      <td>0</td>\n",
       "    </tr>\n",
       "    <tr>\n",
       "      <th>2010-09-02</th>\n",
       "      <td>76.89</td>\n",
       "      <td>2010</td>\n",
       "      <td>9</td>\n",
       "      <td>2</td>\n",
       "      <td>3</td>\n",
       "      <td>245</td>\n",
       "      <td>35</td>\n",
       "      <td>3</td>\n",
       "      <td>0</td>\n",
       "      <td>0</td>\n",
       "      <td>0</td>\n",
       "    </tr>\n",
       "    <tr>\n",
       "      <th>2010-09-03</th>\n",
       "      <td>76.57</td>\n",
       "      <td>2010</td>\n",
       "      <td>9</td>\n",
       "      <td>3</td>\n",
       "      <td>3</td>\n",
       "      <td>246</td>\n",
       "      <td>35</td>\n",
       "      <td>4</td>\n",
       "      <td>0</td>\n",
       "      <td>0</td>\n",
       "      <td>0</td>\n",
       "    </tr>\n",
       "    <tr>\n",
       "      <th>2010-09-04</th>\n",
       "      <td>76.62</td>\n",
       "      <td>2010</td>\n",
       "      <td>9</td>\n",
       "      <td>4</td>\n",
       "      <td>3</td>\n",
       "      <td>247</td>\n",
       "      <td>35</td>\n",
       "      <td>5</td>\n",
       "      <td>0</td>\n",
       "      <td>0</td>\n",
       "      <td>0</td>\n",
       "    </tr>\n",
       "    <tr>\n",
       "      <th>2010-09-05</th>\n",
       "      <td>76.63</td>\n",
       "      <td>2010</td>\n",
       "      <td>9</td>\n",
       "      <td>5</td>\n",
       "      <td>3</td>\n",
       "      <td>248</td>\n",
       "      <td>35</td>\n",
       "      <td>6</td>\n",
       "      <td>0</td>\n",
       "      <td>1</td>\n",
       "      <td>0</td>\n",
       "    </tr>\n",
       "  </tbody>\n",
       "</table>\n",
       "</div>"
      ],
      "text/plain": [
       "            Значение  year  month  dayofmonth  quarter  dayofyear  weekofyear  \\\n",
       "Дата                                                                            \n",
       "2010-09-01     76.37  2010      9           1        3        244          35   \n",
       "2010-09-02     76.89  2010      9           2        3        245          35   \n",
       "2010-09-03     76.57  2010      9           3        3        246          35   \n",
       "2010-09-04     76.62  2010      9           4        3        247          35   \n",
       "2010-09-05     76.63  2010      9           5        3        248          35   \n",
       "\n",
       "            dayofweek  is_holiday  is_prev_holiday  is_next_holiday  \n",
       "Дата                                                                 \n",
       "2010-09-01          2           0                0                0  \n",
       "2010-09-02          3           0                0                0  \n",
       "2010-09-03          4           0                0                0  \n",
       "2010-09-04          5           0                0                0  \n",
       "2010-09-05          6           0                1                0  "
      ]
     },
     "execution_count": 5,
     "metadata": {},
     "output_type": "execute_result"
    }
   ],
   "source": [
    "# Прочитали файл Brent\n",
    "path_brent = '~/Yandex.Disk/geekbrains/Python/MLInBusines/lesson_2/my_BRENT2019.csv'\n",
    "brent_data = pd.read_csv(path_brent,sep = ',', index_col=[0], parse_dates=[0])\n",
    "brent_data.head()"
   ]
  },
  {
   "cell_type": "code",
   "execution_count": 6,
   "metadata": {},
   "outputs": [
    {
     "data": {
      "text/html": [
       "<div>\n",
       "<style scoped>\n",
       "    .dataframe tbody tr th:only-of-type {\n",
       "        vertical-align: middle;\n",
       "    }\n",
       "\n",
       "    .dataframe tbody tr th {\n",
       "        vertical-align: top;\n",
       "    }\n",
       "\n",
       "    .dataframe thead th {\n",
       "        text-align: right;\n",
       "    }\n",
       "</style>\n",
       "<table border=\"1\" class=\"dataframe\">\n",
       "  <thead>\n",
       "    <tr style=\"text-align: right;\">\n",
       "      <th></th>\n",
       "      <th>Значение</th>\n",
       "      <th>year</th>\n",
       "      <th>month</th>\n",
       "      <th>dayofmonth</th>\n",
       "      <th>quarter</th>\n",
       "      <th>dayofyear</th>\n",
       "      <th>weekofyear</th>\n",
       "      <th>dayofweek</th>\n",
       "      <th>is_holiday</th>\n",
       "      <th>is_prev_holiday</th>\n",
       "      <th>is_next_holiday</th>\n",
       "    </tr>\n",
       "    <tr>\n",
       "      <th>Дата</th>\n",
       "      <th></th>\n",
       "      <th></th>\n",
       "      <th></th>\n",
       "      <th></th>\n",
       "      <th></th>\n",
       "      <th></th>\n",
       "      <th></th>\n",
       "      <th></th>\n",
       "      <th></th>\n",
       "      <th></th>\n",
       "      <th></th>\n",
       "    </tr>\n",
       "  </thead>\n",
       "  <tbody>\n",
       "    <tr>\n",
       "      <th>2010-09-01</th>\n",
       "      <td>0.00</td>\n",
       "      <td>2010</td>\n",
       "      <td>9</td>\n",
       "      <td>1</td>\n",
       "      <td>3</td>\n",
       "      <td>244</td>\n",
       "      <td>35</td>\n",
       "      <td>2</td>\n",
       "      <td>0</td>\n",
       "      <td>0</td>\n",
       "      <td>0</td>\n",
       "    </tr>\n",
       "    <tr>\n",
       "      <th>2010-09-02</th>\n",
       "      <td>0.52</td>\n",
       "      <td>2010</td>\n",
       "      <td>9</td>\n",
       "      <td>2</td>\n",
       "      <td>3</td>\n",
       "      <td>245</td>\n",
       "      <td>35</td>\n",
       "      <td>3</td>\n",
       "      <td>0</td>\n",
       "      <td>0</td>\n",
       "      <td>0</td>\n",
       "    </tr>\n",
       "    <tr>\n",
       "      <th>2010-09-03</th>\n",
       "      <td>-0.32</td>\n",
       "      <td>2010</td>\n",
       "      <td>9</td>\n",
       "      <td>3</td>\n",
       "      <td>3</td>\n",
       "      <td>246</td>\n",
       "      <td>35</td>\n",
       "      <td>4</td>\n",
       "      <td>0</td>\n",
       "      <td>0</td>\n",
       "      <td>0</td>\n",
       "    </tr>\n",
       "    <tr>\n",
       "      <th>2010-09-04</th>\n",
       "      <td>0.05</td>\n",
       "      <td>2010</td>\n",
       "      <td>9</td>\n",
       "      <td>4</td>\n",
       "      <td>3</td>\n",
       "      <td>247</td>\n",
       "      <td>35</td>\n",
       "      <td>5</td>\n",
       "      <td>0</td>\n",
       "      <td>0</td>\n",
       "      <td>0</td>\n",
       "    </tr>\n",
       "    <tr>\n",
       "      <th>2010-09-05</th>\n",
       "      <td>0.01</td>\n",
       "      <td>2010</td>\n",
       "      <td>9</td>\n",
       "      <td>5</td>\n",
       "      <td>3</td>\n",
       "      <td>248</td>\n",
       "      <td>35</td>\n",
       "      <td>6</td>\n",
       "      <td>0</td>\n",
       "      <td>1</td>\n",
       "      <td>0</td>\n",
       "    </tr>\n",
       "    <tr>\n",
       "      <th>...</th>\n",
       "      <td>...</td>\n",
       "      <td>...</td>\n",
       "      <td>...</td>\n",
       "      <td>...</td>\n",
       "      <td>...</td>\n",
       "      <td>...</td>\n",
       "      <td>...</td>\n",
       "      <td>...</td>\n",
       "      <td>...</td>\n",
       "      <td>...</td>\n",
       "      <td>...</td>\n",
       "    </tr>\n",
       "    <tr>\n",
       "      <th>2019-08-27</th>\n",
       "      <td>1.33</td>\n",
       "      <td>2019</td>\n",
       "      <td>8</td>\n",
       "      <td>27</td>\n",
       "      <td>3</td>\n",
       "      <td>239</td>\n",
       "      <td>35</td>\n",
       "      <td>1</td>\n",
       "      <td>0</td>\n",
       "      <td>0</td>\n",
       "      <td>0</td>\n",
       "    </tr>\n",
       "    <tr>\n",
       "      <th>2019-08-28</th>\n",
       "      <td>0.25</td>\n",
       "      <td>2019</td>\n",
       "      <td>8</td>\n",
       "      <td>28</td>\n",
       "      <td>3</td>\n",
       "      <td>240</td>\n",
       "      <td>35</td>\n",
       "      <td>2</td>\n",
       "      <td>0</td>\n",
       "      <td>0</td>\n",
       "      <td>0</td>\n",
       "    </tr>\n",
       "    <tr>\n",
       "      <th>2019-08-29</th>\n",
       "      <td>0.53</td>\n",
       "      <td>2019</td>\n",
       "      <td>8</td>\n",
       "      <td>29</td>\n",
       "      <td>3</td>\n",
       "      <td>241</td>\n",
       "      <td>35</td>\n",
       "      <td>3</td>\n",
       "      <td>0</td>\n",
       "      <td>0</td>\n",
       "      <td>0</td>\n",
       "    </tr>\n",
       "    <tr>\n",
       "      <th>2019-08-30</th>\n",
       "      <td>-1.18</td>\n",
       "      <td>2019</td>\n",
       "      <td>8</td>\n",
       "      <td>30</td>\n",
       "      <td>3</td>\n",
       "      <td>242</td>\n",
       "      <td>35</td>\n",
       "      <td>4</td>\n",
       "      <td>0</td>\n",
       "      <td>0</td>\n",
       "      <td>0</td>\n",
       "    </tr>\n",
       "    <tr>\n",
       "      <th>2019-09-01</th>\n",
       "      <td>-0.35</td>\n",
       "      <td>2019</td>\n",
       "      <td>9</td>\n",
       "      <td>1</td>\n",
       "      <td>3</td>\n",
       "      <td>244</td>\n",
       "      <td>35</td>\n",
       "      <td>6</td>\n",
       "      <td>0</td>\n",
       "      <td>1</td>\n",
       "      <td>0</td>\n",
       "    </tr>\n",
       "  </tbody>\n",
       "</table>\n",
       "<p>2667 rows × 11 columns</p>\n",
       "</div>"
      ],
      "text/plain": [
       "            Значение  year  month  dayofmonth  quarter  dayofyear  weekofyear  \\\n",
       "Дата                                                                            \n",
       "2010-09-01      0.00  2010      9           1        3        244          35   \n",
       "2010-09-02      0.52  2010      9           2        3        245          35   \n",
       "2010-09-03     -0.32  2010      9           3        3        246          35   \n",
       "2010-09-04      0.05  2010      9           4        3        247          35   \n",
       "2010-09-05      0.01  2010      9           5        3        248          35   \n",
       "...              ...   ...    ...         ...      ...        ...         ...   \n",
       "2019-08-27      1.33  2019      8          27        3        239          35   \n",
       "2019-08-28      0.25  2019      8          28        3        240          35   \n",
       "2019-08-29      0.53  2019      8          29        3        241          35   \n",
       "2019-08-30     -1.18  2019      8          30        3        242          35   \n",
       "2019-09-01     -0.35  2019      9           1        3        244          35   \n",
       "\n",
       "            dayofweek  is_holiday  is_prev_holiday  is_next_holiday  \n",
       "Дата                                                                 \n",
       "2010-09-01          2           0                0                0  \n",
       "2010-09-02          3           0                0                0  \n",
       "2010-09-03          4           0                0                0  \n",
       "2010-09-04          5           0                0                0  \n",
       "2010-09-05          6           0                1                0  \n",
       "...               ...         ...              ...              ...  \n",
       "2019-08-27          1           0                0                0  \n",
       "2019-08-28          2           0                0                0  \n",
       "2019-08-29          3           0                0                0  \n",
       "2019-08-30          4           0                0                0  \n",
       "2019-09-01          6           0                1                0  \n",
       "\n",
       "[2667 rows x 11 columns]"
      ]
     },
     "execution_count": 6,
     "metadata": {},
     "output_type": "execute_result"
    }
   ],
   "source": [
    "# Пересчитываем значения цены на первые разности\n",
    "brent_first = brent_data.copy()\n",
    "brent_first['Значение'].values[0] = 0 \n",
    "brent_first['Значение'].values[1:] = brent_data['Значение'].values[1:]- brent_data['Значение'].values[:-1]\n",
    "brent_first"
   ]
  },
  {
   "cell_type": "code",
   "execution_count": 7,
   "metadata": {},
   "outputs": [
    {
     "data": {
      "image/png": "[encoded data removed]",
      "text/plain": [
       "<Figure size 1440x288 with 1 Axes>"
      ]
     },
     "metadata": {
      "needs_background": "light"
     },
     "output_type": "display_data"
    }
   ],
   "source": [
    "# Посмотрим, что получилось\n",
    "plt.figure(figsize =(20,4))\n",
    "plt.plot( brent_first.index, brent_first['Значение'], 'o' )\n",
    "plt.title('Первые разности стоимости нефти Brent' )\n",
    "plt.ylabel ( 'USD' )\n",
    "plt.show()"
   ]
  },
  {
   "cell_type": "code",
   "execution_count": 8,
   "metadata": {},
   "outputs": [],
   "source": [
    "p =3\n",
    "\n",
    "#добавляем историю длиной р\n",
    "for i in range(p):\n",
    "    brent_first['t'+str(p-i+1)]=0\n",
    "    brent_first['t'+str(p-i+1)].values[p+2:] = brent_first['Значение'].values[i+1:-(p-i+1)]\n",
    "for i in range(p):\n",
    "    brent_first['d'+str(p-i+1)]=0    \n",
    "    brent_first['d'+str(p-i+1)].values[i+1:] =( (brent_first['Значение'].values[i+1:]- brent_first['Значение'].values[i:-1]))"
   ]
  },
  {
   "cell_type": "code",
   "execution_count": null,
   "metadata": {},
   "outputs": [],
   "source": []
  },
  {
   "cell_type": "markdown",
   "metadata": {},
   "source": [
    "2. Добавьте первые разности по стоимости доллара и евро к рублю"
   ]
  },
  {
   "cell_type": "code",
   "execution_count": 9,
   "metadata": {},
   "outputs": [
    {
     "data": {
      "text/html": [
       "<div>\n",
       "<style scoped>\n",
       "    .dataframe tbody tr th:only-of-type {\n",
       "        vertical-align: middle;\n",
       "    }\n",
       "\n",
       "    .dataframe tbody tr th {\n",
       "        vertical-align: top;\n",
       "    }\n",
       "\n",
       "    .dataframe thead th {\n",
       "        text-align: right;\n",
       "    }\n",
       "</style>\n",
       "<table border=\"1\" class=\"dataframe\">\n",
       "  <thead>\n",
       "    <tr style=\"text-align: right;\">\n",
       "      <th></th>\n",
       "      <th>curs</th>\n",
       "    </tr>\n",
       "  </thead>\n",
       "  <tbody>\n",
       "    <tr>\n",
       "      <th>2010-09-01</th>\n",
       "      <td>30.8669</td>\n",
       "    </tr>\n",
       "    <tr>\n",
       "      <th>2010-09-02</th>\n",
       "      <td>30.8001</td>\n",
       "    </tr>\n",
       "    <tr>\n",
       "      <th>2010-09-03</th>\n",
       "      <td>30.6858</td>\n",
       "    </tr>\n",
       "    <tr>\n",
       "      <th>2010-09-04</th>\n",
       "      <td>30.6922</td>\n",
       "    </tr>\n",
       "    <tr>\n",
       "      <th>2010-09-07</th>\n",
       "      <td>30.5771</td>\n",
       "    </tr>\n",
       "  </tbody>\n",
       "</table>\n",
       "</div>"
      ],
      "text/plain": [
       "               curs\n",
       "2010-09-01  30.8669\n",
       "2010-09-02  30.8001\n",
       "2010-09-03  30.6858\n",
       "2010-09-04  30.6922\n",
       "2010-09-07  30.5771"
      ]
     },
     "execution_count": 9,
     "metadata": {},
     "output_type": "execute_result"
    }
   ],
   "source": [
    "# Прочитаем файл USD\n",
    "path_usd = '~/Yandex.Disk/geekbrains/Python/MLInBusines/lesson_5/RC_F01_09_2010_T01_09_2019.xlsx'\n",
    "rub_doll=pd.read_excel(path_usd)\n",
    "rub_doll.index = pd.to_datetime(rub_doll['data'].values)\n",
    "rub_doll.drop(['nominal','cdx','data'], axis=1,inplace = True)\n",
    "rub_doll.head()"
   ]
  },
  {
   "cell_type": "code",
   "execution_count": 10,
   "metadata": {},
   "outputs": [
    {
     "data": {
      "text/html": [
       "<div>\n",
       "<style scoped>\n",
       "    .dataframe tbody tr th:only-of-type {\n",
       "        vertical-align: middle;\n",
       "    }\n",
       "\n",
       "    .dataframe tbody tr th {\n",
       "        vertical-align: top;\n",
       "    }\n",
       "\n",
       "    .dataframe thead th {\n",
       "        text-align: right;\n",
       "    }\n",
       "</style>\n",
       "<table border=\"1\" class=\"dataframe\">\n",
       "  <thead>\n",
       "    <tr style=\"text-align: right;\">\n",
       "      <th></th>\n",
       "      <th>curs</th>\n",
       "    </tr>\n",
       "  </thead>\n",
       "  <tbody>\n",
       "    <tr>\n",
       "      <th>2010-09-01</th>\n",
       "      <td>39.0127</td>\n",
       "    </tr>\n",
       "    <tr>\n",
       "      <th>2010-09-02</th>\n",
       "      <td>39.1654</td>\n",
       "    </tr>\n",
       "    <tr>\n",
       "      <th>2010-09-03</th>\n",
       "      <td>39.2901</td>\n",
       "    </tr>\n",
       "    <tr>\n",
       "      <th>2010-09-04</th>\n",
       "      <td>39.3505</td>\n",
       "    </tr>\n",
       "    <tr>\n",
       "      <th>2010-09-07</th>\n",
       "      <td>39.4720</td>\n",
       "    </tr>\n",
       "  </tbody>\n",
       "</table>\n",
       "</div>"
      ],
      "text/plain": [
       "               curs\n",
       "2010-09-01  39.0127\n",
       "2010-09-02  39.1654\n",
       "2010-09-03  39.2901\n",
       "2010-09-04  39.3505\n",
       "2010-09-07  39.4720"
      ]
     },
     "execution_count": 10,
     "metadata": {},
     "output_type": "execute_result"
    }
   ],
   "source": [
    "# Прочитаем файл EUR\n",
    "path_eur = '~/Yandex.Disk/geekbrains/Python/MLInBusines/lesson_5/R_E01_09_2010_T01_09_2019.xlsx'\n",
    "rub_e=pd.read_excel(path_eur)\n",
    "rub_e.index = pd.to_datetime(rub_e['data'].values)\n",
    "rub_e.drop(['nominal','cdx','data'], axis=1,inplace = True)\n",
    "rub_e.head()"
   ]
  },
  {
   "cell_type": "code",
   "execution_count": 12,
   "metadata": {},
   "outputs": [],
   "source": [
    "# Посчитаем первые разности для значений USD\n",
    "brent_first['USD_f']=0\n",
    "brent_first['USD_f'].values[1:2229]=rub_doll['curs'].values[:]\n",
    "brent_first=brent_first.iloc[:2229,:]\n",
    "\n",
    "# brent_first['USD_f'] = 0\n",
    "# brent_first['USD_f'].values[0] = 0\n",
    "# brent_first['USD_f'].values[1:] = rub_doll['curs'].values[1:]- rub_doll['curs'].values[:-1]"
   ]
  },
  {
   "cell_type": "code",
   "execution_count": 13,
   "metadata": {},
   "outputs": [
    {
     "name": "stderr",
     "output_type": "stream",
     "text": [
      "/home/aleksandr/anaconda3/lib/python3.7/site-packages/ipykernel_launcher.py:2: SettingWithCopyWarning: \n",
      "A value is trying to be set on a copy of a slice from a DataFrame.\n",
      "Try using .loc[row_indexer,col_indexer] = value instead\n",
      "\n",
      "See the caveats in the documentation: https://pandas.pydata.org/pandas-docs/stable/user_guide/indexing.html#returning-a-view-versus-a-copy\n",
      "  \n"
     ]
    }
   ],
   "source": [
    "# Посчитаем первые разности для значений EUR\n",
    "brent_first['EUR_f']=0\n",
    "brent_first['EUR_f'].values[1:2229]=rub_doll['curs'].values[:]\n",
    "brent_first=brent_first.iloc[:2229,:]\n",
    "\n",
    "# rub_e['EUR_f'] = np.nan\n",
    "# rub_e['EUR_f'].values[0] = 0\n",
    "# rub_e['EUR_f'].values[1:] = rub_e['curs'].values[1:]- rub_e['curs'].values[:-1]"
   ]
  },
  {
   "cell_type": "markdown",
   "metadata": {},
   "source": [
    "3. Сделайте ее перрасчет (ресемплинг) в представление по неделям. "
   ]
  },
  {
   "cell_type": "code",
   "execution_count": 14,
   "metadata": {},
   "outputs": [
    {
     "ename": "KeyError",
     "evalue": "'USD_f'",
     "output_type": "error",
     "traceback": [
      "\u001b[0;31m---------------------------------------------------------------------------\u001b[0m",
      "\u001b[0;31mKeyError\u001b[0m                                  Traceback (most recent call last)",
      "\u001b[0;32m~/anaconda3/lib/python3.7/site-packages/pandas/core/indexes/base.py\u001b[0m in \u001b[0;36mget_loc\u001b[0;34m(self, key, method, tolerance)\u001b[0m\n\u001b[1;32m   2645\u001b[0m             \u001b[0;32mtry\u001b[0m\u001b[0;34m:\u001b[0m\u001b[0;34m\u001b[0m\u001b[0;34m\u001b[0m\u001b[0m\n\u001b[0;32m-> 2646\u001b[0;31m                 \u001b[0;32mreturn\u001b[0m \u001b[0mself\u001b[0m\u001b[0;34m.\u001b[0m\u001b[0m_engine\u001b[0m\u001b[0;34m.\u001b[0m\u001b[0mget_loc\u001b[0m\u001b[0;34m(\u001b[0m\u001b[0mkey\u001b[0m\u001b[0;34m)\u001b[0m\u001b[0;34m\u001b[0m\u001b[0;34m\u001b[0m\u001b[0m\n\u001b[0m\u001b[1;32m   2647\u001b[0m             \u001b[0;32mexcept\u001b[0m \u001b[0mKeyError\u001b[0m\u001b[0;34m:\u001b[0m\u001b[0;34m\u001b[0m\u001b[0;34m\u001b[0m\u001b[0m\n",
      "\u001b[0;32mpandas/_libs/index.pyx\u001b[0m in \u001b[0;36mpandas._libs.index.IndexEngine.get_loc\u001b[0;34m()\u001b[0m\n",
      "\u001b[0;32mpandas/_libs/index.pyx\u001b[0m in \u001b[0;36mpandas._libs.index.IndexEngine.get_loc\u001b[0;34m()\u001b[0m\n",
      "\u001b[0;32mpandas/_libs/hashtable_class_helper.pxi\u001b[0m in \u001b[0;36mpandas._libs.hashtable.PyObjectHashTable.get_item\u001b[0;34m()\u001b[0m\n",
      "\u001b[0;32mpandas/_libs/hashtable_class_helper.pxi\u001b[0m in \u001b[0;36mpandas._libs.hashtable.PyObjectHashTable.get_item\u001b[0;34m()\u001b[0m\n",
      "\u001b[0;31mKeyError\u001b[0m: 'USD_f'",
      "\nDuring handling of the above exception, another exception occurred:\n",
      "\u001b[0;31mKeyError\u001b[0m                                  Traceback (most recent call last)",
      "\u001b[0;32m<ipython-input-14-a77822572d60>\u001b[0m in \u001b[0;36m<module>\u001b[0;34m\u001b[0m\n\u001b[1;32m      1\u001b[0m \u001b[0;31m# Делаем ресемплинг по неделям и объеденяем все в один DataFrame\u001b[0m\u001b[0;34m\u001b[0m\u001b[0;34m\u001b[0m\u001b[0;34m\u001b[0m\u001b[0m\n\u001b[1;32m      2\u001b[0m \u001b[0mbrent_first_w\u001b[0m \u001b[0;34m=\u001b[0m \u001b[0mbrent_first\u001b[0m\u001b[0;34m.\u001b[0m\u001b[0mresample\u001b[0m\u001b[0;34m(\u001b[0m\u001b[0;34m'W'\u001b[0m\u001b[0;34m)\u001b[0m\u001b[0;34m.\u001b[0m\u001b[0mmean\u001b[0m\u001b[0;34m(\u001b[0m\u001b[0;34m)\u001b[0m\u001b[0;34m\u001b[0m\u001b[0;34m\u001b[0m\u001b[0m\n\u001b[0;32m----> 3\u001b[0;31m \u001b[0mbrent_first_w\u001b[0m\u001b[0;34m[\u001b[0m\u001b[0;34m'USD_f'\u001b[0m\u001b[0;34m]\u001b[0m \u001b[0;34m=\u001b[0m \u001b[0mrub_doll\u001b[0m\u001b[0;34m[\u001b[0m\u001b[0;34m'USD_f'\u001b[0m\u001b[0;34m]\u001b[0m\u001b[0;34m.\u001b[0m\u001b[0mresample\u001b[0m\u001b[0;34m(\u001b[0m\u001b[0;34m'W'\u001b[0m\u001b[0;34m)\u001b[0m\u001b[0;34m.\u001b[0m\u001b[0mmean\u001b[0m\u001b[0;34m(\u001b[0m\u001b[0;34m)\u001b[0m\u001b[0;34m\u001b[0m\u001b[0;34m\u001b[0m\u001b[0m\n\u001b[0m\u001b[1;32m      4\u001b[0m \u001b[0mbrent_first_w\u001b[0m\u001b[0;34m[\u001b[0m\u001b[0;34m'EUR_f'\u001b[0m\u001b[0;34m]\u001b[0m \u001b[0;34m=\u001b[0m \u001b[0mrub_e\u001b[0m\u001b[0;34m[\u001b[0m\u001b[0;34m'EUR_f'\u001b[0m\u001b[0;34m]\u001b[0m\u001b[0;34m.\u001b[0m\u001b[0mresample\u001b[0m\u001b[0;34m(\u001b[0m\u001b[0;34m'W'\u001b[0m\u001b[0;34m)\u001b[0m\u001b[0;34m.\u001b[0m\u001b[0mmean\u001b[0m\u001b[0;34m(\u001b[0m\u001b[0;34m)\u001b[0m\u001b[0;34m\u001b[0m\u001b[0;34m\u001b[0m\u001b[0m\n\u001b[1;32m      5\u001b[0m \u001b[0mbrent_first_w\u001b[0m \u001b[0;34m=\u001b[0m \u001b[0mbrent_first_w\u001b[0m\u001b[0;34m.\u001b[0m\u001b[0mfillna\u001b[0m\u001b[0;34m(\u001b[0m\u001b[0;36m0\u001b[0m\u001b[0;34m)\u001b[0m\u001b[0;34m\u001b[0m\u001b[0;34m\u001b[0m\u001b[0m\n",
      "\u001b[0;32m~/anaconda3/lib/python3.7/site-packages/pandas/core/frame.py\u001b[0m in \u001b[0;36m__getitem__\u001b[0;34m(self, key)\u001b[0m\n\u001b[1;32m   2798\u001b[0m             \u001b[0;32mif\u001b[0m \u001b[0mself\u001b[0m\u001b[0;34m.\u001b[0m\u001b[0mcolumns\u001b[0m\u001b[0;34m.\u001b[0m\u001b[0mnlevels\u001b[0m \u001b[0;34m>\u001b[0m \u001b[0;36m1\u001b[0m\u001b[0;34m:\u001b[0m\u001b[0;34m\u001b[0m\u001b[0;34m\u001b[0m\u001b[0m\n\u001b[1;32m   2799\u001b[0m                 \u001b[0;32mreturn\u001b[0m \u001b[0mself\u001b[0m\u001b[0;34m.\u001b[0m\u001b[0m_getitem_multilevel\u001b[0m\u001b[0;34m(\u001b[0m\u001b[0mkey\u001b[0m\u001b[0;34m)\u001b[0m\u001b[0;34m\u001b[0m\u001b[0;34m\u001b[0m\u001b[0m\n\u001b[0;32m-> 2800\u001b[0;31m             \u001b[0mindexer\u001b[0m \u001b[0;34m=\u001b[0m \u001b[0mself\u001b[0m\u001b[0;34m.\u001b[0m\u001b[0mcolumns\u001b[0m\u001b[0;34m.\u001b[0m\u001b[0mget_loc\u001b[0m\u001b[0;34m(\u001b[0m\u001b[0mkey\u001b[0m\u001b[0;34m)\u001b[0m\u001b[0;34m\u001b[0m\u001b[0;34m\u001b[0m\u001b[0m\n\u001b[0m\u001b[1;32m   2801\u001b[0m             \u001b[0;32mif\u001b[0m \u001b[0mis_integer\u001b[0m\u001b[0;34m(\u001b[0m\u001b[0mindexer\u001b[0m\u001b[0;34m)\u001b[0m\u001b[0;34m:\u001b[0m\u001b[0;34m\u001b[0m\u001b[0;34m\u001b[0m\u001b[0m\n\u001b[1;32m   2802\u001b[0m                 \u001b[0mindexer\u001b[0m \u001b[0;34m=\u001b[0m \u001b[0;34m[\u001b[0m\u001b[0mindexer\u001b[0m\u001b[0;34m]\u001b[0m\u001b[0;34m\u001b[0m\u001b[0;34m\u001b[0m\u001b[0m\n",
      "\u001b[0;32m~/anaconda3/lib/python3.7/site-packages/pandas/core/indexes/base.py\u001b[0m in \u001b[0;36mget_loc\u001b[0;34m(self, key, method, tolerance)\u001b[0m\n\u001b[1;32m   2646\u001b[0m                 \u001b[0;32mreturn\u001b[0m \u001b[0mself\u001b[0m\u001b[0;34m.\u001b[0m\u001b[0m_engine\u001b[0m\u001b[0;34m.\u001b[0m\u001b[0mget_loc\u001b[0m\u001b[0;34m(\u001b[0m\u001b[0mkey\u001b[0m\u001b[0;34m)\u001b[0m\u001b[0;34m\u001b[0m\u001b[0;34m\u001b[0m\u001b[0m\n\u001b[1;32m   2647\u001b[0m             \u001b[0;32mexcept\u001b[0m \u001b[0mKeyError\u001b[0m\u001b[0;34m:\u001b[0m\u001b[0;34m\u001b[0m\u001b[0;34m\u001b[0m\u001b[0m\n\u001b[0;32m-> 2648\u001b[0;31m                 \u001b[0;32mreturn\u001b[0m \u001b[0mself\u001b[0m\u001b[0;34m.\u001b[0m\u001b[0m_engine\u001b[0m\u001b[0;34m.\u001b[0m\u001b[0mget_loc\u001b[0m\u001b[0;34m(\u001b[0m\u001b[0mself\u001b[0m\u001b[0;34m.\u001b[0m\u001b[0m_maybe_cast_indexer\u001b[0m\u001b[0;34m(\u001b[0m\u001b[0mkey\u001b[0m\u001b[0;34m)\u001b[0m\u001b[0;34m)\u001b[0m\u001b[0;34m\u001b[0m\u001b[0;34m\u001b[0m\u001b[0m\n\u001b[0m\u001b[1;32m   2649\u001b[0m         \u001b[0mindexer\u001b[0m \u001b[0;34m=\u001b[0m \u001b[0mself\u001b[0m\u001b[0;34m.\u001b[0m\u001b[0mget_indexer\u001b[0m\u001b[0;34m(\u001b[0m\u001b[0;34m[\u001b[0m\u001b[0mkey\u001b[0m\u001b[0;34m]\u001b[0m\u001b[0;34m,\u001b[0m \u001b[0mmethod\u001b[0m\u001b[0;34m=\u001b[0m\u001b[0mmethod\u001b[0m\u001b[0;34m,\u001b[0m \u001b[0mtolerance\u001b[0m\u001b[0;34m=\u001b[0m\u001b[0mtolerance\u001b[0m\u001b[0;34m)\u001b[0m\u001b[0;34m\u001b[0m\u001b[0;34m\u001b[0m\u001b[0m\n\u001b[1;32m   2650\u001b[0m         \u001b[0;32mif\u001b[0m \u001b[0mindexer\u001b[0m\u001b[0;34m.\u001b[0m\u001b[0mndim\u001b[0m \u001b[0;34m>\u001b[0m \u001b[0;36m1\u001b[0m \u001b[0;32mor\u001b[0m \u001b[0mindexer\u001b[0m\u001b[0;34m.\u001b[0m\u001b[0msize\u001b[0m \u001b[0;34m>\u001b[0m \u001b[0;36m1\u001b[0m\u001b[0;34m:\u001b[0m\u001b[0;34m\u001b[0m\u001b[0;34m\u001b[0m\u001b[0m\n",
      "\u001b[0;32mpandas/_libs/index.pyx\u001b[0m in \u001b[0;36mpandas._libs.index.IndexEngine.get_loc\u001b[0;34m()\u001b[0m\n",
      "\u001b[0;32mpandas/_libs/index.pyx\u001b[0m in \u001b[0;36mpandas._libs.index.IndexEngine.get_loc\u001b[0;34m()\u001b[0m\n",
      "\u001b[0;32mpandas/_libs/hashtable_class_helper.pxi\u001b[0m in \u001b[0;36mpandas._libs.hashtable.PyObjectHashTable.get_item\u001b[0;34m()\u001b[0m\n",
      "\u001b[0;32mpandas/_libs/hashtable_class_helper.pxi\u001b[0m in \u001b[0;36mpandas._libs.hashtable.PyObjectHashTable.get_item\u001b[0;34m()\u001b[0m\n",
      "\u001b[0;31mKeyError\u001b[0m: 'USD_f'"
     ]
    }
   ],
   "source": [
    "# Делаем ресемплинг по неделям и объеденяем все в один DataFrame\n",
    "brent_first_w = brent_first.resample('W').mean()\n",
    "brent_first_w['USD_f'] = rub_doll['USD_f'].resample('W').mean()\n",
    "brent_first_w['EUR_f'] = rub_e['EUR_f'].resample('W').mean()\n",
    "brent_first_w = brent_first_w.fillna(0)\n",
    "brent_first_w.head(10)"
   ]
  },
  {
   "cell_type": "code",
   "execution_count": 14,
   "metadata": {},
   "outputs": [],
   "source": [
    "# Удаляем неактуальные данные и округляем проазничные предпраздничные дни, может пригодится\n",
    "brent_first_w.drop(['dayofweek'], axis=1, inplace=True)\n",
    "brent_first_w = brent_first_w.round({'month': 0, 'quarter': 0})\n",
    "brent_first_w['is_holiday'] =  my_round(brent_first_w['is_holiday'], 0)\n",
    "brent_first_w['is_prev_holiday'] =  my_round(brent_first_w['is_prev_holiday'], 0)\n",
    "brent_first_w['is_next_holiday'] =  my_round(brent_first_w['is_next_holiday'], 0)"
   ]
  },
  {
   "cell_type": "markdown",
   "metadata": {},
   "source": [
    "4. Постройте модель предсказания 1-й точки от текущей (h=1)."
   ]
  },
  {
   "cell_type": "code",
   "execution_count": 17,
   "metadata": {},
   "outputs": [],
   "source": [
    "brent_first_w = brent_first.copy()"
   ]
  },
  {
   "cell_type": "code",
   "execution_count": 18,
   "metadata": {},
   "outputs": [
    {
     "data": {
      "text/plain": [
       "(2228, 1)"
      ]
     },
     "execution_count": 18,
     "metadata": {},
     "output_type": "execute_result"
    }
   ],
   "source": [
    "# Стандартизируем наши данные и делаем горизинт предсказания h=1\n",
    "scl_target=StandardScaler() \n",
    "h=1\n",
    "target = brent_first_w['Значение'].values[h:].reshape((brent_first_w.shape[0]-h,1))\n",
    "y = scl_target.fit_transform(target)\n",
    "y.shape"
   ]
  },
  {
   "cell_type": "code",
   "execution_count": 19,
   "metadata": {},
   "outputs": [
    {
     "data": {
      "text/plain": [
       "(2228, 20)"
      ]
     },
     "execution_count": 19,
     "metadata": {},
     "output_type": "execute_result"
    }
   ],
   "source": [
    "scl_x=StandardScaler() \n",
    "\n",
    "X = brent_first_w.iloc[:-h,:].values\n",
    "X = scl_x.fit_transform(X.astype('float64'))\n",
    "X.shape"
   ]
  },
  {
   "cell_type": "markdown",
   "metadata": {},
   "source": [
    "Отбираем наилучшие признаки"
   ]
  },
  {
   "cell_type": "code",
   "execution_count": 20,
   "metadata": {
    "scrolled": true
   },
   "outputs": [
    {
     "name": "stdout",
     "output_type": "stream",
     "text": [
      "F-test=1107279.65,  I=0\n",
      "F-test=3410.44,  I=1\n",
      "F-test=0.58,  I=2\n",
      "F-test=0.12,  I=3\n",
      "F-test=0.44,  I=4\n",
      "F-test=0.57,  I=5\n",
      "F-test=0.56,  I=6\n",
      "F-test=14.25,  I=7\n",
      "F-test=0.29,  I=8\n",
      "F-test=0.65,  I=9\n",
      "F-test=0.23,  I=10\n",
      "F-test=86245.01,  I=11\n",
      "F-test=92446.32,  I=12\n",
      "F-test=100202.39,  I=13\n",
      "F-test=0.74,  I=14\n",
      "F-test=0.74,  I=15\n",
      "F-test=0.74,  I=16\n",
      "F-test=3671.78,  I=17\n",
      "F-test=3671.78,  I=18\n",
      "F-test=3671.78,  I=19\n"
     ]
    }
   ],
   "source": [
    "f_test, _ = f_regression(X, y.ravel())\n",
    "\n",
    "for i in range(X.shape[1]):\n",
    "    print(\"F-test={:.2f},  I={}\".format(f_test[i],i))"
   ]
  },
  {
   "cell_type": "code",
   "execution_count": 21,
   "metadata": {},
   "outputs": [
    {
     "data": {
      "text/plain": [
       "(2228, 5)"
      ]
     },
     "execution_count": 21,
     "metadata": {},
     "output_type": "execute_result"
    }
   ],
   "source": [
    "sfk =SelectKBest(f_regression, k=5)\n",
    "X_new1 =sfk.fit_transform(X, y.ravel())\n",
    "X_new1.shape"
   ]
  },
  {
   "cell_type": "code",
   "execution_count": 22,
   "metadata": {},
   "outputs": [
    {
     "data": {
      "text/plain": [
       "(2228, 2)"
      ]
     },
     "execution_count": 22,
     "metadata": {},
     "output_type": "execute_result"
    }
   ],
   "source": [
    "sfp=SelectPercentile(f_regression, percentile=10)\n",
    "X_new2 = sfp.fit_transform(X, y.ravel())\n",
    "X_new2.shape"
   ]
  },
  {
   "cell_type": "code",
   "execution_count": 23,
   "metadata": {},
   "outputs": [
    {
     "data": {
      "text/plain": [
       "(2228, 1)"
      ]
     },
     "execution_count": 23,
     "metadata": {},
     "output_type": "execute_result"
    }
   ],
   "source": [
    "gr_model = GradientBoostingRegressor(max_depth=5, random_state=40, n_estimators=100).fit(X, y.ravel())\n",
    "sfm = SelectFromModel(gr_model,  max_features = 5)\n",
    "\n",
    "sfm.fit(X, y.ravel())\n",
    "X_new3 = sfm.transform(X)\n",
    "X_new3.shape"
   ]
  },
  {
   "cell_type": "code",
   "execution_count": 24,
   "metadata": {},
   "outputs": [
    {
     "name": "stdout",
     "output_type": "stream",
     "text": [
      "Номера признаков k лучших признаков :  [ 0 11 12 13 19]\n",
      "Номера признаков лучших признаков по процентной форме:  [ 0 13]\n",
      "Номера признаков для выбора по модели :  [0]\n"
     ]
    }
   ],
   "source": [
    "list_param_k =np.where(sfk.get_support())[0]\n",
    "list_param_p =np.where(sfp.get_support())[0]\n",
    "list_param_m =np.where(sfm.get_support())[0]\n",
    "\n",
    "print('Номера признаков k лучших признаков : ',list_param_k)\n",
    "print('Номера признаков лучших признаков по процентной форме: ',list_param_p)\n",
    "print('Номера признаков для выбора по модели : ',list_param_m)"
   ]
  },
  {
   "cell_type": "code",
   "execution_count": 25,
   "metadata": {},
   "outputs": [
    {
     "name": "stdout",
     "output_type": "stream",
     "text": [
      "[0, 11, 12, 13, 19]\n"
     ]
    }
   ],
   "source": [
    "# Объединяем признаки\n",
    "list_par = list(list_param_k.copy())\n",
    "list_par.extend(list(list_param_p))\n",
    "list_par.extend(list(list_param_m))\n",
    "list_par = list(set(list_par))\n",
    "print(list_par)"
   ]
  },
  {
   "cell_type": "code",
   "execution_count": 26,
   "metadata": {},
   "outputs": [],
   "source": [
    "X_new = X[:,list_par]\n",
    "# X_new = pd.DataFrame(X[:,list_par], columns=)"
   ]
  },
  {
   "cell_type": "code",
   "execution_count": 27,
   "metadata": {},
   "outputs": [
    {
     "data": {
      "image/png": "[encoded data removed]",
      "text/plain": [
       "<Figure size 1080x504 with 1 Axes>"
      ]
     },
     "metadata": {
      "needs_background": "light"
     },
     "output_type": "display_data"
    }
   ],
   "source": [
    "# train, test = split_data(brent_first_w, -20)\n",
    "train, test = split_data( brent_data[-2000:], -100)\n",
    "plt.figure( figsize=( 15, 7 ))\n",
    "plt.xlabel('Время')\n",
    "plt.ylabel('Нефть')\n",
    "plt.plot(train.index,train.iloc[:,0], label='train data' )\n",
    "plt.plot(test.index,test.iloc[:,0], label='test data')\n",
    "plt.title( 'Тестовые и тренировочные данные' )\n",
    "plt.grid()\n",
    "plt.legend()\n",
    "plt.show()"
   ]
  },
  {
   "cell_type": "code",
   "execution_count": 36,
   "metadata": {},
   "outputs": [],
   "source": [
    "X_train =X_new[:train.shape[0],:]\n",
    "y_train =y[:train.shape[0],0]\n",
    "X_test =X_new[train.shape[0]:,:]\n",
    "y_test =y[train.shape[0]:,0]"
   ]
  },
  {
   "cell_type": "code",
   "execution_count": 39,
   "metadata": {},
   "outputs": [],
   "source": [
    "# Тренируем модель и делаем предсказание\n",
    "model_g = GradientBoostingRegressor(max_depth=5, random_state=10, n_estimators=1000)\n",
    "model_g.fit(X_train, y_train)\n",
    "y_pred_g = model_g.predict(X_train)\n",
    "y_test_pred_g = model_g.predict(X_test)"
   ]
  },
  {
   "cell_type": "code",
   "execution_count": 40,
   "metadata": {},
   "outputs": [
    {
     "name": "stdout",
     "output_type": "stream",
     "text": [
      "ошибка градиентного бустинга MAPE :   1.5543343606193705 %\n"
     ]
    }
   ],
   "source": [
    "# Посмотрим ошибку нашего предсказания\n",
    "er_g = mean_absolute_percentage_error(y_true=scl_target.inverse_transform( y_test),\n",
    "                                      y_pred = scl_target.inverse_transform( y_test_pred_g))\n",
    "print('ошибка градиентного бустинга MAPE :  ', er_g,'%')"
   ]
  },
  {
   "cell_type": "code",
   "execution_count": 64,
   "metadata": {},
   "outputs": [],
   "source": [
    "from sklearn.metrics import mean_squared_error\n",
    "from sklearn.metrics import mean_absolute_error\n",
    "from sklearn.metrics import r2_score"
   ]
  },
  {
   "cell_type": "code",
   "execution_count": 65,
   "metadata": {},
   "outputs": [],
   "source": [
    "er_s = mean_squared_error(y_true=y_test, y_pred=y_test_pred_g) \n",
    "er_a = mean_absolute_error(y_true=y_test, y_pred=y_test_pred_g) \n",
    "er_r2 = r2_score(y_true=y_test, y_pred=y_test_pred_g)"
   ]
  },
  {
   "cell_type": "code",
   "execution_count": 66,
   "metadata": {},
   "outputs": [
    {
     "name": "stdout",
     "output_type": "stream",
     "text": [
      "ошибка mse :   3.105650925985545e-08 \n",
      "ошибка mae  :   0.0001465581024430694 \n",
      "оценка R2 :   0.999999936794119\n"
     ]
    }
   ],
   "source": [
    "print('ошибка mse :  ', er_s,'\\nошибка mae  :  ', er_a,'\\nоценка R2 :  ', er_r2)"
   ]
  },
  {
   "cell_type": "code",
   "execution_count": 67,
   "metadata": {},
   "outputs": [
    {
     "name": "stdout",
     "output_type": "stream",
     "text": [
      "Model with rank: 1\n",
      "Mean validation score: -0.104 (std: 0.074)\n",
      "Parameters: {'n_estimators': 100, 'max_depth': 1}\n",
      "\n",
      "Model with rank: 2\n",
      "Mean validation score: -0.140 (std: 0.095)\n",
      "Parameters: {'n_estimators': 200, 'max_depth': 1}\n",
      "\n",
      "Model with rank: 3\n",
      "Mean validation score: -0.165 (std: 0.105)\n",
      "Parameters: {'n_estimators': 300, 'max_depth': 1}\n",
      "\n"
     ]
    },
    {
     "name": "stderr",
     "output_type": "stream",
     "text": [
      "/home/aleksandr/anaconda3/lib/python3.7/site-packages/sklearn/model_selection/_search.py:823: FutureWarning: The parameter 'iid' is deprecated in 0.22 and will be removed in 0.24.\n",
      "  \"removed in 0.24.\", FutureWarning\n"
     ]
    }
   ],
   "source": [
    "from sklearn.model_selection import RandomizedSearchCV\n",
    "\n",
    "def report(results, n_top=3):\n",
    "    for i in range(1, n_top + 1):\n",
    "        candidates = np.flatnonzero(results['rank_test_score'] == i)\n",
    "        for candidate in candidates:\n",
    "            print(\"Model with rank: {0}\".format(i))\n",
    "            print(\"Mean validation score: {0:.3f} (std: {1:.3f})\".format(\n",
    "                  results['mean_test_score'][candidate],\n",
    "                  results['std_test_score'][candidate]))\n",
    "            print(\"Parameters: {0}\".format(results['params'][candidate]))\n",
    "            print(\"\")\n",
    "\n",
    "param_dist = {\"max_depth\": [3, 2,1,4,5], \n",
    "              \"n_estimators\":[100,200,300,400,500]}\n",
    "\n",
    "#  randomized search\n",
    "n_iter_search = 10\n",
    "\n",
    "model_gr =GradientBoostingRegressor()\n",
    "\n",
    "random_search = RandomizedSearchCV(model_gr, param_distributions=param_dist, n_iter=n_iter_search, cv=5, iid=False)\n",
    "\n",
    "random_search.fit(X_train, y_train)\n",
    "\n",
    "report(random_search.cv_results_)"
   ]
  },
  {
   "cell_type": "markdown",
   "metadata": {},
   "source": [
    "5. Сделайте вывод о поведении ошибки предсказания ряда в сравнении с прямым прогнозированием."
   ]
  },
  {
   "cell_type": "code",
   "execution_count": 68,
   "metadata": {},
   "outputs": [
    {
     "data": {
      "text/plain": [
       "array([[-0.00310198, -1.79879155,  0.60453761, ...,  0.01243576,\n",
       "        -0.20980726,  0.21017661],\n",
       "       [-0.00310198, -1.02131451,  0.65701789, ...,  0.01243576,\n",
       "         0.08220369, -0.1433553 ],\n",
       "       [-0.00310198, -0.00823837,  0.72540128, ...,  0.47504596,\n",
       "         0.07344076,  0.93880948],\n",
       "       ...,\n",
       "       [ 0.09329753,  1.68807517, -0.91580022, ...,  0.01243576,\n",
       "         0.61263954,  0.03418641],\n",
       "       [ 0.09329753, -1.70455191, -0.84900713, ...,  0.47504596,\n",
       "         0.40977061,  0.38902645],\n",
       "       [ 0.09329753, -0.71503568, -0.78221405, ...,  0.47504596,\n",
       "        -0.67697262, -0.41143233]])"
      ]
     },
     "execution_count": 68,
     "metadata": {},
     "output_type": "execute_result"
    }
   ],
   "source": [
    "X_train"
   ]
  },
  {
   "cell_type": "code",
   "execution_count": 69,
   "metadata": {},
   "outputs": [
    {
     "data": {
      "text/plain": [
       "array([ 0.21910649, -0.57763358,  0.15081449,  0.11179048,  1.75079864,\n",
       "       -0.66218559, -0.59389359,  0.37195051,  1.94266666, -0.37926156,\n",
       "        0.40121851,  0.53780252,  0.33943051, -0.10999594,  1.36706261,\n",
       "       -0.27194555,  0.74593054,  0.18658649,  0.40121851,  0.59633853,\n",
       "        3.43533481,  0.81422255, -1.12462004,  0.72967054,  0.01423047,\n",
       "        1.3534042 ,  2.3459147 , -0.88982561,  0.2919513 ,  0.38821051,\n",
       "       -5.10767003,  0.96056257, -0.20690555,  1.22072259,  0.36869851,\n",
       "        0.60284253, -1.56949368, -2.59387378,  2.23534669,  1.75405064,\n",
       "        0.13780649,  0.16707449, -0.17763755, -3.50118187,  0.33617851,\n",
       "       -0.15162154,  1.2987706 ,  0.34593451, -0.7369816 ,  0.56381853,\n",
       "       -2.37598976, -0.92884962,  0.89877456,  0.01097847,  3.53614682,\n",
       "        0.10853848,  1.08413858,  0.05975848, -1.88168571, -0.01828953,\n",
       "        1.06787858, -0.67584399, -1.86867771,  1.92315466, -0.36950556,\n",
       "        2.48510031, -0.93860562, -0.34674156,  0.65812654,  1.11015458,\n",
       "        0.82072655,  1.09714658,  1.48738662, -0.55161758,  0.50203052,\n",
       "        0.3036585 , -0.30121356, -0.7207216 , -0.37926156, -0.40852957,\n",
       "       -0.55812158,  0.3166665 , -2.8020018 ,  0.10853848, -1.44591767,\n",
       "        0.02073447, -2.92232581,  1.11015458, -0.87031361, -2.27517775,\n",
       "        2.01421067,  0.05975848,  1.3117786 ,  1.51990662,  0.04349848,\n",
       "        0.16707449,  1.45811861,  0.85649856,  0.05325448, -0.00528153,\n",
       "       -0.06381753,  0.93779856, -1.7581097 ,  0.2808945 , -0.35324556,\n",
       "        0.69389854, -1.07844163, -0.17763755, -1.44916967,  1.18169859,\n",
       "        0.40121851,  0.61259853, -0.31422156, -1.26705765,  0.61259853,\n",
       "        0.2548785 ,  0.52999772, -0.03975273, -0.11910154,  0.65162254,\n",
       "        0.63926493,  0.63536253,  1.53779262,  0.07341688, -1.42120247,\n",
       "       -1.82705211,  0.2685369 , -0.42804157, -0.34674156,  0.82658015,\n",
       "       -1.7548577 , -0.50608958, -1.09470163,  1.07763458,  0.64511854,\n",
       "       -0.42153757,  0.41097451, -0.7825096 , -0.7825096 ,  1.57844263,\n",
       "        0.44024252, -1.68981769,  0.2939025 ,  2.24705389,  0.2418705 ,\n",
       "        0.17683049, -0.34999356,  0.2418705 , -0.39552157,  1.13942258,\n",
       "        0.3309753 , -0.05080953,  1.01584657, -1.05567763, -0.54511358,\n",
       "       -0.33698556,  0.13455449,  0.56707053, -0.01503753, -0.96787362,\n",
       "       -0.35649756, -0.10609354,  0.95731057,  0.14756249,  0.2646345 ,\n",
       "        0.54755853, -0.7077136 ,  0.90202656,  0.2792685 , -2.73533579,\n",
       "        0.09878248, -0.15812554,  0.51503852, -0.7695016 ,  1.11665858,\n",
       "        0.15081449,  0.2548785 ,  0.12805048, -0.7597456 ,  0.07601848,\n",
       "       -0.48007357,  0.37195051, -0.58088558,  0.58007853,  0.74072734,\n",
       "        0.01423047, -0.53535758, -0.27519755,  0.77682455,  0.47276252,\n",
       "       -0.53535758, -0.30121356,  1.73128664,  0.66463054, -0.65893359,\n",
       "       -0.82803761, -1.01340163, -0.09958954,  0.41747851, -0.90608562,\n",
       "        0.07601848, -0.84104561, -0.35324556,  0.41747851, -0.54186158,\n",
       "       -1.21827765,  0.18333449, -0.46056157, -1.37437366, -1.06543363,\n",
       "       -0.80527361, -0.13731274,  0.03049048, -0.67194159, -1.55648568,\n",
       "        0.38951131, -3.89792591, -0.02479353, -2.32395775,  0.17357849,\n",
       "       -0.64462479, -1.57729848, -2.07680573,  0.18333449, -0.61990959,\n",
       "        1.3540546 ,  2.12477868,  1.12641458, -0.68494959,  0.98657857,\n",
       "       -1.01014963, -1.86217371,  0.2418705 ,  0.41422651,  0.21780569,\n",
       "        0.79796255,  1.78266825,  0.44804732,  0.87340896, -0.24657995,\n",
       "        0.22561049, -0.11584954, -1.29632565, -0.07487434,  1.06072418,\n",
       "       -0.49243118, -0.26609195, -0.41438317, -1.15974164, -0.90608562,\n",
       "       -0.63681999, -0.92169522, -1.26900885, -0.05536233, -1.36656886,\n",
       "        0.75243455,  0.86560416, -0.11389834, -0.26218955, -0.26999435,\n",
       "       -0.13341034,  2.3407115 , -1.51095767, -0.66023439,  0.12805048,\n",
       "       -0.14901994, -1.17144884, -0.34804236,  0.42853531, -0.46901677,\n",
       "       -1.82314971, -0.89047601,  0.21585449, -0.47682157, -0.83974481,\n",
       "       -1.49144567, -0.29340876,  2.2890047 , -0.01243593, -1.03876723,\n",
       "        0.93974976,  0.42853531,  0.84999456,  1.38072101,  0.2919513 ,\n",
       "       -0.49633358, -0.22706795,  0.11634328,  1.48998822,  0.50268092,\n",
       "        1.02560257, -1.25339925,  1.2909658 ,  0.58463133,  0.19829369,\n",
       "        0.11634328,  0.60024093, -1.46412887, -0.00853353,  0.91243296,\n",
       "       -1.22218005,  0.09292888, -0.29731116, -1.20657045,  0.2958537 ,\n",
       "        1.02560257,  1.80998505, -0.48852878, -1.56168888,  1.45876901,\n",
       "       -1.26120405,  0.40121851,  0.85779936,  0.90072576,  0.39341371,\n",
       "        0.05390488, -0.85145201, -1.92851452,  0.02658807,  0.93584736,\n",
       "       -0.33633516,  2.27762269,  0.11634328,  0.3166665 , -0.07487434,\n",
       "        0.82560455,  0.08252248, -0.52755278,  0.01423047, -0.04430553,\n",
       "        0.49227452, -0.05731353, -0.28820556,  0.19634249, -0.13210954,\n",
       "       -1.58900568,  0.2353665 , -0.17113354,  0.77845055,  0.64186653,\n",
       "        0.10853848, -1.11746564, -0.10284154, -0.7695016 ,  0.43699051,\n",
       "        1.06787858, -0.44104957, -0.85730561, -0.51584558, -0.34023756,\n",
       "       -0.40202557,  0.96706657, -0.65242959,  0.71015854, -0.31422156,\n",
       "        1.44185861,  0.00772647, -0.10934554,  0.2548785 , -0.13536154,\n",
       "        0.04024648,  0.48577052,  0.53455052,  0.45650252, -0.04105353,\n",
       "       -0.33698556,  0.69389854,  0.08577448,  0.79145855,  0.64837054,\n",
       "        0.45325052, -0.36625356,  0.2939025 ,  0.06626248, -0.12885754,\n",
       "        0.06626248,  0.76414175,  0.80121455,  0.36999931,  0.63861453,\n",
       "       -0.30771756,  0.45325052, -0.63291759, -1.70607769,  0.73292254,\n",
       "        0.64837054, -0.7532416 ,  0.3264225 ,  0.12805048,  1.2629986 ,\n",
       "       -0.12170314, -0.7304776 ,  1.64998663,  0.57357453, -0.08332954,\n",
       "        0.43048651,  0.68089054,  0.60934653, -0.91584162,  0.17357849,\n",
       "       -0.06381753, -1.05567763,  0.37845451,  1.48088262, -0.46706557,\n",
       "       -0.66868959, -0.63291759,  0.55731453, -0.51909758, -0.05406153,\n",
       "       -0.39552157,  1.38982661,  0.59308653, -0.16137754,  0.2516265 ,\n",
       "        0.57032253,  1.07438258,  0.17032649, -0.57438158, -0.63942159,\n",
       "       -0.61665759, -1.63128169, -0.53535758, -1.18900964, -2.56785778,\n",
       "        0.46625852,  0.33943051, -0.47682157, -2.15485374, -0.10609354,\n",
       "        1.74364424,  0.97357057,  0.52154252, -0.36300156,  0.52804652,\n",
       "       -0.25893755,  1.51015062,  0.2483745 , -0.65242959,  0.19959449,\n",
       "        0.45325052, -0.08007754,  0.3231705 ,  0.93454656,  0.22886249,\n",
       "        0.36219451, -0.32397756, -0.49633358,  0.2613825 ,  0.81422255])"
      ]
     },
     "execution_count": 69,
     "metadata": {},
     "output_type": "execute_result"
    }
   ],
   "source": [
    "y_train"
   ]
  },
  {
   "cell_type": "code",
   "execution_count": null,
   "metadata": {},
   "outputs": [],
   "source": []
  }
 ],
 "metadata": {
  "kernelspec": {
   "display_name": "Python 3",
   "language": "python",
   "name": "python3"
  },
  "language_info": {
   "codemirror_mode": {
    "name": "ipython",
    "version": 3
   },
   "file_extension": ".py",
   "mimetype": "text/x-python",
   "name": "python",
   "nbconvert_exporter": "python",
   "pygments_lexer": "ipython3",
   "version": "3.7.6"
  }
 },
 "nbformat": 4,
 "nbformat_minor": 4
}
